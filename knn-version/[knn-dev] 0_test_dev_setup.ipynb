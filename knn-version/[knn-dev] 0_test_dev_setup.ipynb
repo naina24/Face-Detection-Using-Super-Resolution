{
 "cells": [
  {
   "cell_type": "markdown",
   "metadata": {},
   "source": [
    "# Development Setup"
   ]
  },
  {
   "cell_type": "markdown",
   "metadata": {},
   "source": [
    "Note: this file is mainly used for setting up the dataset for testing purposes. It is NOT for regular use"
   ]
  },
  {
   "cell_type": "markdown",
   "metadata": {},
   "source": [
    "## Remove Excess Files (Dataset)\n",
    "- Mainly used to trim the dataset to less images due to poor computer performance.\n",
    "- Set to 10 default."
   ]
  },
  {
   "cell_type": "code",
   "execution_count": 4,
   "metadata": {},
   "outputs": [],
   "source": [
    "import os, re\n",
    "from imutils import paths # get our paths\n",
    "import ipywidgets as widgets\n",
    "\n",
    "def removeExcessFiles(location, lowerLimit, upperLimit):\n",
    "    count = 0\n",
    "    imagePaths = list(paths.list_images(location))\n",
    "    print(\"Removing images numbered below \" + str(lowerLimit) + \" and over \" + str(upperLimit))\n",
    "    print(\"in \", os.path.abspath(location))\n",
    "    # loop through the entire image path\n",
    "    for imagePath in imagePaths:\n",
    "        # extract name from the paths\n",
    "        name = re.sub('[^0-9]','', imagePath.split(os.path.sep)[2])\n",
    "        print(name) #enable for debugging\n",
    "        if ((int(name) < lowerLimit) or (int(name) > upperLimit)):\n",
    "            os.remove(imagePath)\n",
    "            print(imagePath, \"removed\")\n",
    "            count+=1\n",
    "    print(\"Total images removed: \", count)"
   ]
  },
  {
   "cell_type": "markdown",
   "metadata": {},
   "source": [
    "To trim benchmark data"
   ]
  },
  {
   "cell_type": "code",
   "execution_count": 5,
   "metadata": {},
   "outputs": [
    {
     "name": "stdout",
     "output_type": "stream",
     "text": [
      "Removing images numbered below 11 and over 13\n",
      "in  /home/naina/Downloads/face-recognition-low-res-main/knn-version/dataset/test\n",
      "Total images removed:  0\n"
     ]
    }
   ],
   "source": [
    "removeExcessFiles(\"./dataset/test\", 11, 13)"
   ]
  },
  {
   "cell_type": "markdown",
   "metadata": {},
   "source": [
    "To trim dataset data"
   ]
  },
  {
   "cell_type": "code",
   "execution_count": 6,
   "metadata": {},
   "outputs": [
    {
     "name": "stdout",
     "output_type": "stream",
     "text": [
      "Removing images numbered below 0 and over 10\n",
      "in  /home/naina/Downloads/face-recognition-low-res-main/knn-version/dataset-input\n",
      "Total images removed:  0\n"
     ]
    }
   ],
   "source": [
    "removeExcessFiles(\"dataset-input\", 0, 10)"
   ]
  },
  {
   "cell_type": "markdown",
   "metadata": {},
   "source": [
    "## Split Folders\n",
    "\n",
    "- Used to split data into test & val(idation)"
   ]
  },
  {
   "cell_type": "code",
   "execution_count": null,
   "metadata": {},
   "outputs": [],
   "source": [
    "import splitfolders\n",
    "\n",
    "train = .8\n",
    "val = .0\n",
    "test = .2\n",
    "\n",
    "splitfolders.ratio('dataset-input', output=\"dataset\", seed=1337, ratio=(train, val, test))\n",
    "print(\"Done!\")"
   ]
  },
  {
   "cell_type": "markdown",
   "metadata": {},
   "source": [
    "## Bulk Resize\n",
    "\n",
    "- Used to resize files in bulk for testing purposes.\n",
    "- NOTE: ONLY png, bmp, jpg, and \"jpeg\" are supported"
   ]
  },
  {
   "cell_type": "code",
   "execution_count": 15,
   "metadata": {},
   "outputs": [],
   "source": [
    "import os\n",
    "import sys\n",
    "from PIL import Image\n",
    "\n",
    "def resize(folder, fileName, setSizes):\n",
    "    filePath = os.path.join(folder, fileName)\n",
    "    im = Image.open(filePath)\n",
    "    originalImgSize = im.size\n",
    "    for size in setSizes:\n",
    "        imgSize = (size, size)\n",
    "        newIm = im.resize(imgSize, Image.BICUBIC)\n",
    "        ## create new\n",
    "        # print(filePath[:-4] + \"_\" + str(size) + \".jpg\")\n",
    "        # newIm.save(filePath[:-4] + \"_\" + str(size) + \".jpg\")\n",
    "        ## overwrite\n",
    "        # print(filePath) # for debugging\n",
    "        newIm.save(filePath)\n",
    "\n",
    "def bulkResize(imageFolder, sizes):\n",
    "    print(os.path.abspath(imageFolder))\n",
    "    imgExts = [\"png\", \"bmp\", \"jpg\"]\n",
    "    for path, dirs, files in os.walk(imageFolder):\n",
    "        for fileName in files:\n",
    "            ext = fileName[-3:].lower()\n",
    "            ext2 = fileName[-4:].lower()\n",
    "            if (ext not in imgExts):\n",
    "                continue\n",
    "            resize(path, fileName, sizes)\n",
    "            print(\"Resized \", fileName)\n",
    "    print(\"[INFO] Done\")"
   ]
  },
  {
   "cell_type": "code",
   "execution_count": 10,
   "metadata": {},
   "outputs": [],
   "source": [
    "import os\n",
    "import sys\n",
    "from PIL import Image\n",
    "\n",
    "def resize(folder, fileName, setSizes):\n",
    "    filePath = os.path.join(folder, fileName)\n",
    "    im = Image.open(filePath)\n",
    "    originalImgSize = im.size\n",
    "    for size in setSizes:\n",
    "        imgSize = (size, size)\n",
    "        newIm = im.resize(imgSize, Image.BICUBIC)\n",
    "        ## create new\n",
    "        # print(filePath[:-4] + \"_\" + str(size) + \".jpg\")\n",
    "        # newIm.save(filePath[:-4] + \"_\" + str(size) + \".jpg\")\n",
    "        ## overwrite\n",
    "        # print(filePath) # for debugging\n",
    "        newIm.save(filePath)\n",
    "\n",
    "def bulkResize(imageFolder, sizes):\n",
    "    print(os.path.abspath(imageFolder))\n",
    "    imgExts = [\"png\", \"bmp\", \"jpg\"]\n",
    "    for path, dirs, files in os.walk(imageFolder):\n",
    "        for fileName in files:\n",
    "            ext = fileName[-3:].lower()\n",
    "            ext2 = fileName[-4:].lower()\n",
    "            if (ext not in imgExts):\n",
    "                continue\n",
    "            resize(path, fileName, sizes)\n",
    "            print(\"Resized \", fileName)\n",
    "    print(\"[INFO] Done\")"
   ]
  },
  {
   "cell_type": "code",
   "execution_count": 11,
   "metadata": {},
   "outputs": [
    {
     "name": "stdout",
     "output_type": "stream",
     "text": [
      "/home/naina/Downloads/face-recognition-low-res-main/knn-version/dataset/test-25x25\n",
      "[INFO] Done\n"
     ]
    }
   ],
   "source": [
    "bulkResize(\"dataset/test-25x25\", [25])"
   ]
  },
  {
   "cell_type": "code",
   "execution_count": 12,
   "metadata": {},
   "outputs": [
    {
     "name": "stdout",
     "output_type": "stream",
     "text": [
      "/home/naina/Downloads/face-recognition-low-res-main/knn-version/dataset/test-30x30\n",
      "[INFO] Done\n"
     ]
    }
   ],
   "source": [
    "bulkResize(\"dataset/test-30x30\", [30])"
   ]
  }
 ],
 "metadata": {
  "kernelspec": {
   "display_name": "Python 3 (ipykernel)",
   "language": "python",
   "name": "python3"
  },
  "language_info": {
   "codemirror_mode": {
    "name": "ipython",
    "version": 3
   },
   "file_extension": ".py",
   "mimetype": "text/x-python",
   "name": "python",
   "nbconvert_exporter": "python",
   "pygments_lexer": "ipython3",
   "version": "3.8.10"
  }
 },
 "nbformat": 4,
 "nbformat_minor": 4
}
