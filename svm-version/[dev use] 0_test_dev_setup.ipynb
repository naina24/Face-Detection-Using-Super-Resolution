{
 "cells": [
  {
   "cell_type": "markdown",
   "metadata": {},
   "source": [
    "# Development Setup"
   ]
  },
  {
   "cell_type": "markdown",
   "metadata": {},
   "source": [
    "Note: this file is mainly used for setting up the dataset for testing purposes. It is NOT for regular use"
   ]
  },
  {
   "cell_type": "markdown",
   "metadata": {},
   "source": [
    "## Remove Excess Files (Dataset)\n",
    "- Mainly used to trim the dataset to less images due to poor computer performance.\n",
    "- Set to 10 default."
   ]
  },
  {
   "cell_type": "code",
   "execution_count": 5,
   "metadata": {},
   "outputs": [],
   "source": [
    "import os, re\n",
    "from imutils import paths # get our paths\n",
    "import ipywidgets as widgets\n",
    "\n",
    "def removeExcessFiles(location, lowerLimit, upperLimit):\n",
    "    count = 0\n",
    "    imagePaths = list(paths.list_images(location))\n",
    "    print(\"Removing images numbered below \" + str(lowerLimit) + \" and over \" + str(upperLimit))\n",
    "    print(\"in \", os.path.abspath(location))\n",
    "    # loop through the entire image path\n",
    "    for imagePath in imagePaths:\n",
    "        # extract name from the paths\n",
    "        name = re.sub('[^0-9]','', imagePath.split(os.path.sep)[2])\n",
    "        print(name) #enable for debugging\n",
    "        if ((int(name) < lowerLimit) or (int(name) > upperLimit)):\n",
    "            os.remove(imagePath)\n",
    "            print(imagePath, \"removed\")\n",
    "            count+=1\n",
    "    print(\"Total images removed: \", count)"
   ]
  },
  {
   "cell_type": "markdown",
   "metadata": {},
   "source": [
    "To trim benchmark data"
   ]
  },
  {
   "cell_type": "code",
   "execution_count": 1,
   "metadata": {},
   "outputs": [
    {
     "ename": "NameError",
     "evalue": "name 'removeExcessFiles' is not defined",
     "output_type": "error",
     "traceback": [
      "\u001b[0;31m---------------------------------------------------------------------------\u001b[0m",
      "\u001b[0;31mNameError\u001b[0m                                 Traceback (most recent call last)",
      "Input \u001b[0;32mIn [1]\u001b[0m, in \u001b[0;36m<module>\u001b[0;34m\u001b[0m\n\u001b[0;32m----> 1\u001b[0m \u001b[43mremoveExcessFiles\u001b[49m(\u001b[38;5;124m\"\u001b[39m\u001b[38;5;124m./dataset/test\u001b[39m\u001b[38;5;124m\"\u001b[39m, \u001b[38;5;241m11\u001b[39m, \u001b[38;5;241m13\u001b[39m)\n",
      "\u001b[0;31mNameError\u001b[0m: name 'removeExcessFiles' is not defined"
     ]
    }
   ],
   "source": [
    "removeExcessFiles(\"./dataset/test\", 11, 13)"
   ]
  },
  {
   "cell_type": "markdown",
   "metadata": {},
   "source": [
    "To trim dataset data"
   ]
  },
  {
   "cell_type": "code",
   "execution_count": 7,
   "metadata": {},
   "outputs": [
    {
     "name": "stdout",
     "output_type": "stream",
     "text": [
      "Removing images numbered below 0 and over 15\n",
      "in  /home/naina/Downloads/face-recognition-low-res-main/svm-version/dataset-input\n",
      "Total images removed:  0\n"
     ]
    }
   ],
   "source": [
    "removeExcessFiles(\"dataset-input\", 0, 15)"
   ]
  },
  {
   "cell_type": "markdown",
   "metadata": {},
   "source": [
    "## Split Folders\n",
    "\n",
    "- Used to split data into test & val(idation)"
   ]
  },
  {
   "cell_type": "code",
   "execution_count": null,
   "metadata": {},
   "outputs": [],
   "source": [
    "import splitfolders\n",
    "\n",
    "train = .8\n",
    "val = .0\n",
    "test = .2\n",
    "\n",
    "splitfolders.ratio('dataset-input', output=\"dataset\", seed=1337, ratio=(train, val, test))\n",
    "print(\"Done!\")"
   ]
  },
  {
   "cell_type": "markdown",
   "metadata": {},
   "source": [
    "## Bulk Resize\n",
    "\n",
    "- Used to resize files in bulk for testing purposes.\n",
    "- NOTE: ONLY png, bmp, jpg, and \"jpeg\" are supported"
   ]
  },
  {
   "cell_type": "code",
   "execution_count": 9,
   "metadata": {},
   "outputs": [],
   "source": [
    "import os\n",
    "import sys\n",
    "from PIL import Image\n",
    "\n",
    "def resize(folder, fileName, setSizes):\n",
    "    filePath = os.path.join(folder, fileName)\n",
    "    im = Image.open(filePath)\n",
    "    originalImgSize = im.size\n",
    "    for size in setSizes:\n",
    "        imgSize = (size, size)\n",
    "        newIm = im.resize(imgSize, Image.BICUBIC)\n",
    "        ## create new\n",
    "        # print(filePath[:-4] + \"_\" + str(size) + \".jpg\")\n",
    "        # newIm.save(filePath[:-4] + \"_\" + str(size) + \".jpg\")\n",
    "        ## overwrite\n",
    "        # print(filePath) # for debugging\n",
    "        newIm.save(filePath)\n",
    "\n",
    "def bulkResize(imageFolder, sizes):\n",
    "    print(os.path.abspath(imageFolder))\n",
    "    imgExts = [\"png\", \"bmp\", \"jpg\"]\n",
    "    for path, dirs, files in os.walk(imageFolder):\n",
    "        for fileName in files:\n",
    "            ext = fileName[-3:].lower()\n",
    "            ext2 = fileName[-4:].lower()\n",
    "            if (ext not in imgExts):\n",
    "                continue\n",
    "            resize(path, fileName, sizes)\n",
    "            print(\"Resized \", fileName)\n",
    "    print(\"[INFO] Done\")"
   ]
  },
  {
   "cell_type": "code",
   "execution_count": 10,
   "metadata": {},
   "outputs": [
    {
     "name": "stdout",
     "output_type": "stream",
     "text": [
      "/home/naina/Downloads/face-recognition-low-res-main/svm-version/dataset/test-24x24\n",
      "[INFO] Done\n"
     ]
    }
   ],
   "source": [
    "bulkResize(\"dataset/test-24x24\", [24])"
   ]
  },
  {
   "cell_type": "code",
   "execution_count": 11,
   "metadata": {},
   "outputs": [
    {
     "name": "stdout",
     "output_type": "stream",
     "text": [
      "/home/naina/Downloads/face-recognition-low-res-main/svm-version/dataset/test-32x32\n",
      "[INFO] Done\n"
     ]
    }
   ],
   "source": [
    "bulkResize(\"dataset/test-32x32\", [32])"
   ]
  },
  {
   "cell_type": "markdown",
   "metadata": {},
   "source": [
    "## Face Cropping"
   ]
  },
  {
   "cell_type": "code",
   "execution_count": 12,
   "metadata": {},
   "outputs": [
    {
     "name": "stderr",
     "output_type": "stream",
     "text": [
      "[ WARN:0@307.629] global /io/opencv/modules/imgcodecs/src/loadsave.cpp (239) findDecoder imread_('input.jpg'): can't open/read file: check file path/integrity\n"
     ]
    },
    {
     "ename": "error",
     "evalue": "OpenCV(4.5.5) /io/opencv/modules/imgproc/src/color.cpp:182: error: (-215:Assertion failed) !_src.empty() in function 'cvtColor'\n",
     "output_type": "error",
     "traceback": [
      "\u001b[0;31m---------------------------------------------------------------------------\u001b[0m",
      "\u001b[0;31merror\u001b[0m                                     Traceback (most recent call last)",
      "Input \u001b[0;32mIn [12]\u001b[0m, in \u001b[0;36m<module>\u001b[0;34m\u001b[0m\n\u001b[1;32m      8\u001b[0m \u001b[38;5;66;03m# load the input image and convert it from RGB (OpenCV ordering)\u001b[39;00m\n\u001b[1;32m      9\u001b[0m \u001b[38;5;66;03m# to dlib ordering (RGB)\u001b[39;00m\n\u001b[1;32m     10\u001b[0m image \u001b[38;5;241m=\u001b[39m cv2\u001b[38;5;241m.\u001b[39mimread(imagePath)\n\u001b[0;32m---> 11\u001b[0m rgb \u001b[38;5;241m=\u001b[39m \u001b[43mcv2\u001b[49m\u001b[38;5;241;43m.\u001b[39;49m\u001b[43mcvtColor\u001b[49m\u001b[43m(\u001b[49m\u001b[43mimage\u001b[49m\u001b[43m,\u001b[49m\u001b[43m \u001b[49m\u001b[43mcv2\u001b[49m\u001b[38;5;241;43m.\u001b[39;49m\u001b[43mCOLOR_BGR2RGB\u001b[49m\u001b[43m)\u001b[49m\n\u001b[1;32m     13\u001b[0m \u001b[38;5;66;03m# detect the (x, y)-coordinates of the bounding boxes\u001b[39;00m\n\u001b[1;32m     14\u001b[0m \u001b[38;5;66;03m# corresponding to each face in the input image\u001b[39;00m\n\u001b[1;32m     15\u001b[0m faces \u001b[38;5;241m=\u001b[39m face_recognition\u001b[38;5;241m.\u001b[39mface_locations(rgb, model\u001b[38;5;241m=\u001b[39mdetectionMethod)\n",
      "\u001b[0;31merror\u001b[0m: OpenCV(4.5.5) /io/opencv/modules/imgproc/src/color.cpp:182: error: (-215:Assertion failed) !_src.empty() in function 'cvtColor'\n"
     ]
    }
   ],
   "source": [
    "import cv2\n",
    "import sys\n",
    "import face_recognition\n",
    "\n",
    "imagePath = 'input.jpg'\n",
    "detectionMethod = 'hog'\n",
    "\n",
    "# load the input image and convert it from RGB (OpenCV ordering)\n",
    "# to dlib ordering (RGB)\n",
    "image = cv2.imread(imagePath)\n",
    "rgb = cv2.cvtColor(image, cv2.COLOR_BGR2RGB)\n",
    "\n",
    "# detect the (x, y)-coordinates of the bounding boxes\n",
    "# corresponding to each face in the input image\n",
    "faces = face_recognition.face_locations(rgb, model=detectionMethod)\n",
    "print(faces)\n",
    "print(\"[INFO] Found {0} Faces!\".format(len(faces)))\n",
    "\n",
    "for (x, y, w, h) in faces:\n",
    "    cv2.rectangle(image, (x, y), (x + w, y + h), (0, 255, 0), 2)\n",
    "    roi_color = image[y:y + h, x:x + w]\n",
    "    print(\"[INFO] Object found. Saving locally.\")\n",
    "    cv2.imwrite(str(w) + str(h) + '_faces.jpg', roi_color)\n",
    "    \n",
    "status = cv2.imwrite('faces_detected.jpg', image)\n",
    "print(\"[INFO] Image faces_detected.jpg written to filesystem: \", status)"
   ]
  },
  {
   "cell_type": "code",
   "execution_count": 13,
   "metadata": {},
   "outputs": [
    {
     "ename": "SyntaxError",
     "evalue": "invalid syntax (2605858638.py, line 6)",
     "output_type": "error",
     "traceback": [
      "\u001b[0;36m  Input \u001b[0;32mIn [13]\u001b[0;36m\u001b[0m\n\u001b[0;31m    https://pytorch.org/get-started/locally/#anaconda\u001b[0m\n\u001b[0m          ^\u001b[0m\n\u001b[0;31mSyntaxError\u001b[0m\u001b[0;31m:\u001b[0m invalid syntax\n"
     ]
    }
   ],
   "source": [
    "# Packages installed\n",
    "\n",
    "## For ESRGAN\n",
    "\n",
    "- Pytorch \n",
    "https://pytorch.org/get-started/locally/#anaconda\n",
    "    - We used the CUDA 10.2 version, under Conda Package\n",
    "conda install pytorch torchvision torchaudio cudatoolkit=10.2 -c pytorch"
   ]
  },
  {
   "cell_type": "markdown",
   "metadata": {},
   "source": [
    "## Installation Setup"
   ]
  },
  {
   "cell_type": "markdown",
   "metadata": {},
   "source": [
    "Aside from the required packages, there are some other details that need to be done.\n",
    "\n",
    "1. Library to be installed\n",
    "\n",
    "\n",
    "2. Jupyter Widgets\n",
    "- To provide a GUI interface, we will use Jupyter Widgets. However, due to "
   ]
  },
  {
   "cell_type": "code",
   "execution_count": 14,
   "metadata": {},
   "outputs": [
    {
     "ename": "ModuleNotFoundError",
     "evalue": "No module named 'tkinter'",
     "output_type": "error",
     "traceback": [
      "\u001b[0;31m---------------------------------------------------------------------------\u001b[0m",
      "\u001b[0;31mModuleNotFoundError\u001b[0m                       Traceback (most recent call last)",
      "Input \u001b[0;32mIn [14]\u001b[0m, in \u001b[0;36m<module>\u001b[0;34m\u001b[0m\n\u001b[0;32m----> 1\u001b[0m \u001b[38;5;28;01mimport\u001b[39;00m \u001b[38;5;21;01mtkinter\u001b[39;00m\n\u001b[1;32m      3\u001b[0m master \u001b[38;5;241m=\u001b[39m Tk()\n\u001b[1;32m      4\u001b[0m Label(master, text\u001b[38;5;241m=\u001b[39m\u001b[38;5;124m\"\u001b[39m\u001b[38;5;124mFirst Name\u001b[39m\u001b[38;5;124m\"\u001b[39m)\u001b[38;5;241m.\u001b[39mgrid(row\u001b[38;5;241m=\u001b[39m\u001b[38;5;241m0\u001b[39m)\n",
      "\u001b[0;31mModuleNotFoundError\u001b[0m: No module named 'tkinter'"
     ]
    }
   ],
   "source": [
    "import tkinter\n",
    "\n",
    "master = Tk()\n",
    "Label(master, text=\"First Name\").grid(row=0)\n",
    "Label(master, text=\"Last Name\").grid(row=1)\n",
    "\n",
    "e1 = Entry(master)\n",
    "e2 = Entry(master)\n",
    "\n",
    "e1.grid(row=0, column=1)\n",
    "e2.grid(row=1, column=1)\n",
    "\n",
    "mainloop()"
   ]
  },
  {
   "cell_type": "code",
   "execution_count": null,
   "metadata": {},
   "outputs": [],
   "source": []
  }
 ],
 "metadata": {
  "kernelspec": {
   "display_name": "Python 3",
   "language": "python",
   "name": "python3"
  },
  "language_info": {
   "codemirror_mode": {
    "name": "ipython",
    "version": 3
   },
   "file_extension": ".py",
   "mimetype": "text/x-python",
   "name": "python",
   "nbconvert_exporter": "python",
   "pygments_lexer": "ipython3",
   "version": "3.8.10"
  }
 },
 "nbformat": 4,
 "nbformat_minor": 4
}
